{
  "cells": [
    {
      "cell_type": "code",
      "source": [
        "!pip install -q langgraph langchain_community langchain_groq wikipedia arxiv tavily-python"
      ],
      "metadata": {
        "colab": {
          "base_uri": "https://localhost:8080/"
        },
        "id": "eKOm7nHkMFdK",
        "outputId": "a997d80b-b0f6-40fc-de90-c017f86aa1fc"
      },
      "execution_count": null,
      "outputs": [
        {
          "output_type": "stream",
          "name": "stdout",
          "text": [
            "\u001b[?25l   \u001b[90m━━━━━━━━━━━━━━━━━━━━━━━━━━━━━━━━━━━━━━━━\u001b[0m \u001b[32m0.0/1.2 MB\u001b[0m \u001b[31m?\u001b[0m eta \u001b[36m-:--:--\u001b[0m\r\u001b[2K   \u001b[91m━━━━━━━━━━━\u001b[0m\u001b[91m╸\u001b[0m\u001b[90m━━━━━━━━━━━━━━━━━━━━━━━━━━━━\u001b[0m \u001b[32m0.3/1.2 MB\u001b[0m \u001b[31m10.1 MB/s\u001b[0m eta \u001b[36m0:00:01\u001b[0m\r\u001b[2K   \u001b[91m━━━━━━━━━━━━━━━━━━━━━━━━━━━━━━━━━━━━━━━\u001b[0m\u001b[91m╸\u001b[0m \u001b[32m1.2/1.2 MB\u001b[0m \u001b[31m20.8 MB/s\u001b[0m eta \u001b[36m0:00:01\u001b[0m\r\u001b[2K   \u001b[90m━━━━━━━━━━━━━━━━━━━━━━━━━━━━━━━━━━━━━━━━\u001b[0m \u001b[32m1.2/1.2 MB\u001b[0m \u001b[31m15.2 MB/s\u001b[0m eta \u001b[36m0:00:00\u001b[0m\n",
            "\u001b[?25h"
          ]
        }
      ]
    },
    {
      "cell_type": "markdown",
      "source": [
        "## LLM"
      ],
      "metadata": {
        "id": "EBxE4VD-Rszr"
      }
    },
    {
      "cell_type": "markdown",
      "source": [
        "### Please get GROQ_API_KEY from [console.groq.com](https://console.groq.com)\n",
        "\n",
        "### You can use any LLM you want"
      ],
      "metadata": {
        "id": "1dcWu-pPEFq7"
      }
    },
    {
      "cell_type": "code",
      "source": [
        "from langchain_groq import ChatGroq\n",
        "from google.colab import userdata\n",
        "GROQ_API_KEY=userdata.get('GROQ_API_KEY')\n",
        "llm=ChatGroq(groq_api_key=GROQ_API_KEY,model_name=\"llama-3.2-90b-text-preview\")\n",
        "llm"
      ],
      "metadata": {
        "colab": {
          "base_uri": "https://localhost:8080/"
        },
        "id": "UH7O6rWLQ6tX",
        "outputId": "e9404533-6d1f-401c-f992-94363e33aa78"
      },
      "execution_count": null,
      "outputs": [
        {
          "output_type": "execute_result",
          "data": {
            "text/plain": [
              "ChatGroq(client=<groq.resources.chat.completions.Completions object at 0x7d0f4f6224a0>, async_client=<groq.resources.chat.completions.AsyncCompletions object at 0x7d0f4f623ca0>, model_name='llama-3.2-90b-text-preview', model_kwargs={}, groq_api_key=SecretStr('**********'))"
            ]
          },
          "metadata": {},
          "execution_count": 6
        }
      ]
    },
    {
      "cell_type": "markdown",
      "source": [
        "##  States"
      ],
      "metadata": {
        "id": "g_l0jYDROFBO"
      }
    },
    {
      "cell_type": "code",
      "source": [
        "from typing import Annotated, TypedDict, Literal\n",
        "from pydantic import Field, BaseModel\n",
        "def reduce_list(left: list | None, right: list | None) -> list:\n",
        "    \"\"\"Safely combine two lists, handling cases where either or both inputs might be None or str.\n",
        "\n",
        "    Args:\n",
        "        left (list | None | str): The first list to combine, or None or str.\n",
        "        right (list | None | str): The second list to combine, or None str.\n",
        "\n",
        "    Returns:\n",
        "        list: A new list containing all elements from both input lists.\n",
        "               If an input is None, it's treated as an empty list.\n",
        "               If an input is str, it's treated as a str in a list.\n",
        "    \"\"\"\n",
        "    if not left:\n",
        "        left = []\n",
        "    if not right:\n",
        "        right = []\n",
        "    return left + right\n",
        "\n",
        "class OverallState(TypedDict):\n",
        "    Query: str\n",
        "    generated_answer:str\n",
        "    final_answer: str\n",
        "\n",
        "class InputState(TypedDict):\n",
        "    Query: str\n",
        "\n",
        "class OutputState(TypedDict):\n",
        "    final_answer: str\n",
        "\n",
        "class RouteQuery(BaseModel):\n",
        "    \"\"\"Route a user query to the most relevant datasource.\"\"\"\n",
        "\n",
        "    datasource: Literal[\"tavily_search\", \"wiki_search\",\"arvix_search\"] = Field(\n",
        "        ...,\n",
        "    description=\"Given a user question choose to route it to wikipedia or arivx (which is searh in academic paper) or tavily search(which is search in google).\",)"
      ],
      "metadata": {
        "id": "5b22_pl4MFZn"
      },
      "execution_count": null,
      "outputs": []
    },
    {
      "cell_type": "code",
      "source": [
        "from langchain_core.prompts import ChatPromptTemplate\n",
        "\n",
        "llm_with_router=llm.with_structured_output(RouteQuery)\n",
        "\n",
        "# Prompt\n",
        "sys_prompt = \"\"\"\n",
        "You are an expert at routing a user question to a arvix_search or wikipedia or tavily_search.\n",
        "The arvix is a huge dataset of academic papers. So if the question needed an paper-like answer, you should use arvix.\n",
        "The tavily_search is like a google search. So if the question cane be answered by a google search, you should use tavily_search.\n",
        "The wiki_search is like a wikipedia search. So if the question cane be answered by a wikipedia search, you should use wiki_search.\n",
        "\"\"\"\n",
        "router_prompt=ChatPromptTemplate.from_messages(\n",
        "   [\n",
        "       ('system',sys_prompt), ('human',\"{Query}\"),\n",
        "   ]\n",
        ")\n",
        "\n",
        "query_router= router_prompt | llm_with_router"
      ],
      "metadata": {
        "id": "qLCe6AhhMFWx"
      },
      "execution_count": null,
      "outputs": []
    },
    {
      "cell_type": "code",
      "source": [
        "print(query_router.invoke({'Query': 'what is the stock price of Tesla today?'}))"
      ],
      "metadata": {
        "colab": {
          "base_uri": "https://localhost:8080/"
        },
        "id": "WDSe1mSJT29e",
        "outputId": "c8ea6209-fd79-42f3-cf25-b329ce6b6afc"
      },
      "execution_count": 180,
      "outputs": [
        {
          "output_type": "stream",
          "name": "stdout",
          "text": [
            "datasource='tavily_search'\n"
          ]
        }
      ]
    },
    {
      "cell_type": "markdown",
      "source": [
        "## Tools"
      ],
      "metadata": {
        "id": "m82jTdL7Ei96"
      }
    },
    {
      "cell_type": "markdown",
      "source": [
        "### You need to provide TAVILY_API_KEY for web search\n",
        "### You can get it from [Tavily](https://tavily.com/)"
      ],
      "metadata": {
        "id": "iGG5ElcME-Mn"
      }
    },
    {
      "cell_type": "code",
      "source": [
        "## Working With Tools\n",
        "from google.colab import userdata\n",
        "TAVILY_API_KEY = userdata.get('TAVILY_API_KEY')\n",
        "import os\n",
        "\n",
        "if not os.environ.get(\"TAVILY_API_KEY\"):\n",
        "    os.environ[\"TAVILY_API_KEY\"] = TAVILY_API_KEY\n",
        "from langchain_community.utilities import ArxivAPIWrapper,WikipediaAPIWrapper\n",
        "from langchain_community.tools import ArxivQueryRun,WikipediaQueryRun\n",
        "from langchain_community.tools import TavilySearchResults\n",
        "\n",
        "## Arxiv\n",
        "arxiv_wrapper=ArxivAPIWrapper(top_k_results=1,doc_content_chars_max=1000)\n",
        "arxiv_tool=ArxivQueryRun(api_wrapper=arxiv_wrapper)\n",
        "## Wiki\n",
        "api_wrapper=WikipediaAPIWrapper(top_k_results=1,doc_content_chars_max=1000)\n",
        "wiki_tool=WikipediaQueryRun(api_wrapper=api_wrapper)\n",
        "## tavily\n",
        "tavily_tool = TavilySearchResults(max_results=1)\n",
        "\n",
        "def arvix_search(state:InputState) -> OverallState:\n",
        "  \"\"\" Retrieve docs from arvix. A paper dataset \"\"\"\n",
        "  query=state['Query']\n",
        "\n",
        "  print('Arvix_search')\n",
        "  print('---HELLO---')\n",
        "\n",
        "\n",
        "  return {'generated_answer':arxiv_tool.invoke(query),'Query':query}\n",
        "\n",
        "def wiki_search(state:InputState) -> OverallState:\n",
        "  \"\"\" Retrieve docs from wikipedia \"\"\"\n",
        "  query=state['Query']\n",
        "\n",
        "  print('Wiki_search')\n",
        "  print('---HELLO---')\n",
        "\n",
        "  return {'generated_answer':wiki_tool.invoke(query),'Query':query}\n",
        "\n",
        "def tavily_search(state:InputState) -> OverallState:\n",
        "  \"\"\" Retrieve docs from web search \"\"\"\n",
        "\n",
        "  print('Tavily_search')\n",
        "  print('---HELLO---')\n",
        "\n",
        "  query=state['Query']\n",
        "\n",
        "  answer=tavily_tool.invoke(query)\n",
        "\n",
        "  ans_str=answer[0]['content']\n",
        "\n",
        "  return {'generated_answer': ans_str,'Query':query}\n",
        "\n",
        "def route_question(state):\n",
        "    \"\"\"\n",
        "    Route question to wiki_search or tavily_search or wiki_search.\n",
        "\n",
        "    Args:\n",
        "        state (dict): The current graph state\n",
        "\n",
        "    Returns:\n",
        "        str: Next node to call\n",
        "    \"\"\"\n",
        "\n",
        "    print(\"---ROUTE QUESTION---\")\n",
        "    question = state[\"Query\"]\n",
        "    source = query_router.invoke({\"Query\": question})\n",
        "    if source.datasource == \"wiki_search\":\n",
        "        print(\"---ROUTE QUESTION TO Wiki SEARCH---\")\n",
        "        return \"wiki_search\"\n",
        "    elif source.datasource == \"tavily_search\":\n",
        "        print(\"---ROUTE QUESTION TO tavily_search---\")\n",
        "        return \"tavily_search\"\n",
        "    elif source.datasource == \"arvix_search\":\n",
        "        print(\"---ROUTE QUESTION TO arvix_search---\")\n",
        "        return \"arvix_search\""
      ],
      "metadata": {
        "id": "F_RBpZ3yVV0w"
      },
      "execution_count": 226,
      "outputs": []
    },
    {
      "cell_type": "code",
      "source": [
        "def final_answer(state:OverallState) -> OutputState:\n",
        "  answer=state['generated_answer']\n",
        "\n",
        "  prompt=\"\"\" This is a generated answer. I want you to make the text very formal without preamble: {generated_answer}\"\"\"\n",
        "  final_prompt_template=ChatPromptTemplate.from_template(template=prompt)\n",
        "  final_prompt= final_prompt_template.format(generated_answer=answer)\n",
        "\n",
        "  final_answer= llm.invoke(final_prompt)\n",
        "\n",
        "  return {'final_answer': final_answer}\n",
        "\n"
      ],
      "metadata": {
        "id": "mKvSo9EM6dgH"
      },
      "execution_count": 227,
      "outputs": []
    },
    {
      "cell_type": "markdown",
      "source": [
        "## Building the Agent"
      ],
      "metadata": {
        "id": "NRvQD3p4Enc4"
      }
    },
    {
      "cell_type": "code",
      "source": [
        "from langgraph.graph import StateGraph,START,END\n",
        "\n",
        "builder=StateGraph(OverallState,input=InputState,output=OutputState)\n",
        "\n",
        "builder.add_node('wiki_search',wiki_search)\n",
        "builder.add_node('tavily_search',tavily_search)\n",
        "builder.add_node('arvix_search',arvix_search)\n",
        "builder.add_node('Final_answer',final_answer)\n",
        "\n",
        "\n",
        "builder.add_conditional_edges(\n",
        "    START,\n",
        "    route_question,\n",
        "    {\n",
        "        \"wiki_search\": \"wiki_search\",\n",
        "        \"tavily_search\": \"tavily_search\",\n",
        "        \"arvix_search\" : \"arvix_search\",\n",
        "    },\n",
        ")\n",
        "\n",
        "builder.add_edge('wiki_search','Final_answer')\n",
        "builder.add_edge('tavily_search','Final_answer')\n",
        "builder.add_edge('arvix_search','Final_answer')\n",
        "\n",
        "builder.add_edge('Final_answer',END)\n",
        "\n",
        "app = builder.compile()"
      ],
      "metadata": {
        "id": "JgJJE63qmyqx"
      },
      "execution_count": 228,
      "outputs": []
    },
    {
      "cell_type": "code",
      "source": [
        "from IPython.display import Image, display\n",
        "\n",
        "try:\n",
        "    display(Image(app.get_graph().draw_mermaid_png()))\n",
        "except Exception:\n",
        "    pass"
      ],
      "metadata": {
        "colab": {
          "base_uri": "https://localhost:8080/",
          "height": 370
        },
        "id": "K1gZ63dWpIGN",
        "outputId": "96171e58-ef5b-4c97-b2eb-12fd80a3b94e"
      },
      "execution_count": 229,
      "outputs": [
        {
          "output_type": "display_data",
          "data": {
            "image/jpeg": "[encoded data removed]",
            "text/plain": [
              "<IPython.core.display.Image object>"
            ]
          },
          "metadata": {}
        }
      ]
    },
    {
      "cell_type": "markdown",
      "source": [
        "## Test the Agent"
      ],
      "metadata": {
        "id": "aQ2h74LWEveJ"
      }
    },
    {
      "cell_type": "code",
      "source": [
        "\n",
        "question={\"\"\"Query\"\"\": \"\"\"REACT : SYNERGIZING REASONING AND ACTING IN LANGUAGE MODELS\"\"\"}\n",
        "for output in app.stream(question):\n",
        "  for k,v in output.items():\n",
        "    ansss=v\n",
        "ansss['final_answer'].pretty_print()"
      ],
      "metadata": {
        "colab": {
          "base_uri": "https://localhost:8080/"
        },
        "id": "AU68uDgcpaFl",
        "outputId": "1be69dba-1368-418c-8cc1-d262359c869e"
      },
      "execution_count": 244,
      "outputs": [
        {
          "output_type": "stream",
          "name": "stdout",
          "text": [
            "---ROUTE QUESTION---\n",
            "---ROUTE QUESTION TO arvix_search---\n",
            "Arvix_search\n",
            "---HELLO---\n",
            "==================================\u001b[1m Ai Message \u001b[0m==================================\n",
            "\n",
            "PUBLICATION DETAILS\n",
            "\n",
            "Publication Date: 10th March 2023\n",
            "\n",
            "TITLE AND AUTHORS\n",
            "\n",
            "ReAct: Synergizing Reasoning and Acting in Language Models\n",
            "By Shunyu Yao, Jeffrey Zhao, Dian Yu, Nan Du, Izhak Shafran, Karthik Narasimhan, and Yuan Cao\n",
            "\n",
            "ABSTRACT\n",
            "\n",
            "A notable paradigm shift is observed in the realm of large language models (LLMs), as their capabilities in language understanding and interactive decision-making are continually expanding. However, the integration of reasoning and acting in LLMs has predominantly been explored as disparate entities. This treatise proposes the utilization of LLMs to generate reasoning traces and task-specific actions in an iterative manner, thereby fostering a synergistic relationship between these two components. The incorporation of reasoning traces enables the model to induce, track, and update action plans, as well as address exceptions, while the implementation of actions facilitates the interface with external sources, such as knowledge bases or environments, to garner supplementary information. The authors' approach, denominated ReAct, is applied to a diverse array of language and decision-making tasks, with the objective of enhancing the efficacy and versatility of LLMs in complex problem-solving scenarios.\n"
          ]
        }
      ]
    },
    {
      "cell_type": "code",
      "source": [],
      "metadata": {
        "id": "Y5Fb0ch8BWnA"
      },
      "execution_count": null,
      "outputs": []
    }
  ],
  "metadata": {
    "colab": {
      "provenance": []
    },
    "kernelspec": {
      "display_name": "Python 3",
      "name": "python3"
    },
    "language_info": {
      "name": "python"
    }
  },
  "nbformat": 4,
  "nbformat_minor": 0
}